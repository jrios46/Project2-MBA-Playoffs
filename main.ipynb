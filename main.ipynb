{
 "cells": [
  {
   "cell_type": "code",
   "execution_count": null,
   "metadata": {},
   "outputs": [],
   "source": [
    "\n",
    "import pandas as pd\n",
    "import os\n",
    "# Define the directory where the CSV files are located\n",
    "csv_directory = \"Combined_csv_files\"\n",
    "# List all CSV files in the directory\n",
    "csv_files = [file for file in os.listdir(csv_directory) if file.endswith('.csv')]\n",
    "# Initialize an empty list to hold dataframes\n",
    "dataframes = []\n",
    "# Loop through the list of CSV files and read each one into a dataframe\n",
    "for csv_file in csv_files:\n",
    "    df = pd.read_csv(os.path.join(csv_directory, csv_file))\n",
    "    dataframes.append(df)\n",
    "\n",
    "# Concatenate all dataframes into a single dataframe\n",
    "combined_df = pd.concat(dataframes, ignore_index=True)\n",
    "# Save the combined dataframe to a new CSV file\n",
    "combined_df.to_csv('combined_data.csv', index=False)\n",
    "\n",
    "combined_df"
   ]
  }
 ],
 "metadata": {
  "kernelspec": {
   "display_name": "Python 3",
   "language": "python",
   "name": "python3"
  },
  "language_info": {
   "codemirror_mode": {
    "name": "ipython",
    "version": 3
   },
   "file_extension": ".py",
   "mimetype": "text/x-python",
   "name": "python",
   "nbconvert_exporter": "python",
   "pygments_lexer": "ipython3",
   "version": "3.11.7"
  }
 },
 "nbformat": 4,
 "nbformat_minor": 2
}
