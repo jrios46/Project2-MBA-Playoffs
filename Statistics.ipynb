{
 "cells": [
  {
   "cell_type": "code",
   "execution_count": null,
   "metadata": {},
   "outputs": [],
   "source": [
    "import pandas as pd\n",
    "import numpy as np\n",
    "import matplotlib.pyplot as plt\n",
    "import seaborn as sns\n",
    "\n",
    "df = pd.read_csv(\"NBA_TeamStats_1992-2024_df.csv\")\n",
    "\n",
    "df.head()\n"
   ]
  },
  {
   "cell_type": "code",
   "execution_count": null,
   "metadata": {},
   "outputs": [],
   "source": [
    "# # Rename the columns needed\n",
    "df=pd.read_csv(\"NBA_TeamStats_1992-2024_df.csv\")\n",
    "df_renamed = df.rename(columns={\n",
    "                                        \"Rk\": \"RANK\",\n",
    "                                        \"W\": \"WINS\",\n",
    "                                        \"L\": \"LOSSES\",\n",
    "                                        \"PW\": \"PYTHAGOREAN WINS\",\n",
    "                                        \"PL\": \"PYTHAGOREAN LOSSES\",\n",
    "                                        \"MOV\": \"MARGIN OF VICTORY\",\n",
    "                                        \"SOS\": \"STRENGTH OF SCHEDULE\",\n",
    "                                        \"SRS\": \"SIMPLE RATING SYSTEM\",\n",
    "                                        \"ORtg\": \"OFFENSIVE RATING\",\n",
    "                                        \"DRtg\": \"DEFENSIVE RATING\",\n",
    "                                        \"Pace\": \"PACE FACTOR\",\n",
    "                                        \"FTr\": \"FREE THROW ATTEMPT RATE\",\n",
    "                                        \"3PAr\": \"3-POINT ATTEMPT RATE\",\n",
    "                                        \"TS%\": \"TRUE SHOOTING PERCENTAGE\",\n",
    "                                        \"eFG%\": \"EFFECTIVE FIELD GOAL PERCENTAGE\",\n",
    "                                        \"TOV%\": \"TURNOVER PERCENTAGE\",\n",
    "                                        \"ORB%\": \"OFFENSIVE REBOUND PERCENTAGE\",\n",
    "                                        \"FT/FGA\": \"FREE THROWS PER FIELD GOAL ATTEMPT\",\n",
    "                                        \"eFG%\": \"OPPONENT EFFECTIVE FIELD GOAL PERCENTAGE\",\n",
    "                                        \"TOV%\": \"OPPONENT TURNOVER PERCENTAGE\",\n",
    "                                        \"DRB%\": \"DEFENSIVE REBOUND PERCENTAGE\",\n",
    "                                        \"FT/FGA\": \"OPPONENT FREE THROWS PER FIELD GOAL ATTEMPT\",\n",
    "                                         })\n",
    "\n",
    "\n",
    "df_renamed.head()"
   ]
  },
  {
   "cell_type": "code",
   "execution_count": null,
   "metadata": {},
   "outputs": [],
   "source": [
    "df_year = df_renamed[[\"Year\"]]\n",
    "df_year.plot.hist(color=\"blue\",rwidth=0.8) \n"
   ]
  },
  {
   "cell_type": "code",
   "execution_count": null,
   "metadata": {},
   "outputs": [],
   "source": [
    "df_won_champ = df_renamed.loc[(df_renamed[\"Championship\"].str.contains(\"Yes\"))]\n",
    "\n",
    "df_won_champ.head()"
   ]
  },
  {
   "cell_type": "code",
   "execution_count": null,
   "metadata": {},
   "outputs": [],
   "source": [
    "df_won_champ.info()"
   ]
  },
  {
   "cell_type": "code",
   "execution_count": null,
   "metadata": {},
   "outputs": [],
   "source": [
    "df_team_age = df_won_champ[[\"Team\" , \"Age\"]]\n",
    "\n",
    "df_team_age"
   ]
  },
  {
   "cell_type": "code",
   "execution_count": null,
   "metadata": {},
   "outputs": [],
   "source": [
    "#Team vs age \n",
    "df_team_age = df_won_champ[[\"Team\" , \"Age\"]]\n",
    "\n",
    "df_team_age.plot(x='Team', y='Age', kind='bar', color= \"deeppink\")\n",
    "\n",
    "plt.ylim(20, 40)  \n",
    "plt.xlabel('Team')\n",
    "plt.ylabel('Age')\n",
    "plt.title('Team vs Age')\n",
    "\n"
   ]
  },
  {
   "cell_type": "code",
   "execution_count": null,
   "metadata": {},
   "outputs": [],
   "source": [
    "#Plot year - team - championship\n",
    "\n",
    "#plt.figure()\n",
    "#sns.heatmap()\n",
    "#plt.xlabel()\n",
    "#plt.ylabel()\n",
    "#plt..title()\n",
    "#plt.show()_"
   ]
  },
  {
   "cell_type": "code",
   "execution_count": null,
   "metadata": {},
   "outputs": [],
   "source": [
    "#Team vs age \n",
    "df_age_wins = df_won_champ[[\"Age\" , \"WINS\"]]\n",
    "\n",
    "df_age_wins.plot.scatter(x='Age', y='WINS', color= \"orange\")\n",
    "\n",
    "plt.ylim(30, 100) \n",
    "plt.xlabel('Age')\n",
    "plt.ylabel('Wins')\n",
    "plt.title('Age vs Wins')"
   ]
  },
  {
   "cell_type": "code",
   "execution_count": null,
   "metadata": {},
   "outputs": [],
   "source": [
    "df_age_wins = df_won_champ[[\"Age\" , \"WINS\"]]"
   ]
  }
 ],
 "metadata": {
  "kernelspec": {
   "display_name": "dev",
   "language": "python",
   "name": "python3"
  },
  "language_info": {
   "codemirror_mode": {
    "name": "ipython",
    "version": 3
   },
   "file_extension": ".py",
   "mimetype": "text/x-python",
   "name": "python",
   "nbconvert_exporter": "python",
   "pygments_lexer": "ipython3",
   "version": "3.11.7"
  }
 },
 "nbformat": 4,
 "nbformat_minor": 2
}
