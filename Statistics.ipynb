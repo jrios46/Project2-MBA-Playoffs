{
 "cells": [
  {
   "cell_type": "code",
   "execution_count": null,
   "metadata": {},
   "outputs": [],
   "source": [
    "import pandas as pd\n",
    "\n",
    "df = pd.read_csv(\"Dataframe/combined_data.csv\")\n",
    "\n",
    "df.head()\n"
   ]
  },
  {
   "cell_type": "code",
   "execution_count": null,
   "metadata": {},
   "outputs": [],
   "source": [
    "# # Rename the columns needed\n",
    "df_us_20208_summary = df_us_20208.rename(columns={\n",
    "                                        \"D1_A\": \"AGE\",\n",
    "                                        \"D1_G\": \"GENDER\",\n",
    "                                        \"VAXANY\": \"VACCINE STATUS\",\n",
    "                                        \"L7\": \"TRUST\",\n",
    "                                        \"Xp6\": \"POS-CASES\",\n",
    "                                        \"CVAX4\": \"TRUST GOV\",\n",
    "                                        \"D0\": \"HEALTHY\",\n",
    "                                        \"D2\": \"STATE\",\n",
    "                                        \"D3\": \"RURAL\",\n",
    "                                        \"D4\": \"INCOME\",\n",
    "                                        \"D5_E\": \"HISPANIC\",\n",
    "                                        \"D5_M\": \"RACE\",\n",
    "                                        \"D6\": \"RELIGION\",\n",
    "                                        \"D6_E\": \"RELIGIOUS\",\n",
    "                                        \"D7\": \"HEALTH COVERAGE\",\n",
    "                                        \"D8\": \"POLITICS\",\n",
    "                                        \"D9\": \"WORK STATUS\",\n",
    "                                        \"D13\": \"ILLNESS\",\n",
    "                                        \"D15\": \"EDUCATION\",\n",
    "                                         })"
   ]
  }
 ],
 "metadata": {
  "kernelspec": {
   "display_name": "dev",
   "language": "python",
   "name": "python3"
  },
  "language_info": {
   "codemirror_mode": {
    "name": "ipython",
    "version": 3
   },
   "file_extension": ".py",
   "mimetype": "text/x-python",
   "name": "python",
   "nbconvert_exporter": "python",
   "pygments_lexer": "ipython3",
   "version": "3.11.7"
  }
 },
 "nbformat": 4,
 "nbformat_minor": 2
}
