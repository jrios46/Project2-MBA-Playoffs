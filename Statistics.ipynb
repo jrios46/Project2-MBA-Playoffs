{
 "cells": [
  {
   "cell_type": "markdown",
   "metadata": {},
   "source": [
    "Group Members: Sapana Hingrajia, Jake McGraw, Joanna Rios, Himmat Jagdev"
   ]
  },
  {
   "cell_type": "markdown",
   "metadata": {},
   "source": [
    "## Using ML to predict NBA 2024 Playoffs Results "
   ]
  },
  {
   "cell_type": "markdown",
   "metadata": {},
   "source": [
    "In this project, we use techniques learned so far to predict the teams that could make it to the Playoffs. \n",
    "We start by using the advanced statistics from 1992 to 2024, then concadenated all the csv gathered.\n",
    "to build the main df \"NBA_TeamStats1992-2024\". \n",
    "We then apply various machine learning methods and approaches to attempt to create a accurate a model as possible to solve the classification problem at hand."
   ]
  },
  {
   "cell_type": "markdown",
   "metadata": {},
   "source": [
    "## Part 0: Data Cleaning and Preparation"
   ]
  },
  {
   "cell_type": "markdown",
   "metadata": {},
   "source": [
    "Importing NBA_TeamStast Data frame and Libraries"
   ]
  },
  {
   "cell_type": "code",
   "execution_count": null,
   "metadata": {},
   "outputs": [],
   "source": [
    "import pandas as pd\n",
    "import numpy as np\n",
    "import matplotlib.pyplot as plt\n",
    "import seaborn as sns\n",
    "from sklearn.model_selection import train_test_split\n",
    "from sklearn.linear_model import LogisticRegression\n",
    "from sklearn.preprocessing import StandardScaler\n",
    "from sklearn.metrics import accuracy_score, confusion_matrix, classification_report\n",
    "from sklearn.ensemble import RandomForestClassifier\n",
    "\n",
    "df = pd.read_csv(\"NBA_TeamStats_1992-2024_df.csv\")\n",
    "\n",
    "df.head()\n"
   ]
  },
  {
   "cell_type": "markdown",
   "metadata": {},
   "source": [
    "Renaming columns to become familiar with the advance statistics names"
   ]
  },
  {
   "cell_type": "code",
   "execution_count": null,
   "metadata": {},
   "outputs": [],
   "source": [
    "# Rename the columns needed\n",
    "df=pd.read_csv(\"NBA_TeamStats_1992-2024_df.csv\")\n",
    "df_renamed = df.rename(columns={\n",
    "                                        \"Rk\": \"RANK\",\n",
    "                                        \"W\": \"WINS\",\n",
    "                                        \"L\": \"LOSSES\",\n",
    "                                        \"PW\": \"PYTHAGOREAN WINS\",\n",
    "                                        \"PL\": \"PYTHAGOREAN LOSSES\",\n",
    "                                        \"MOV\": \"MARGIN OF VICTORY\",\n",
    "                                        \"SOS\": \"STRENGTH OF SCHEDULE\",\n",
    "                                        \"SRS\": \"SIMPLE RATING SYSTEM\",\n",
    "                                        \"ORtg\": \"OFFENSIVE RATING\",\n",
    "                                        \"DRtg\": \"DEFENSIVE RATING\",\n",
    "                                        \"NRtg\": \"NET RATING\",\n",
    "                                        \"Pace\": \"PACE FACTOR\",\n",
    "                                        \"FTr\": \"FREE THROW ATTEMPT RATE\",\n",
    "                                        \"3PAr\": \"3-POINT ATTEMPT RATE\",\n",
    "                                        \"TS%\": \"TRUE SHOOTING PERCENTAGE\",\n",
    "                                        \"eFG%\": \"EFFECTIVE FIELD GOAL PERCENTAGE\",\n",
    "                                        \"TOV%\": \"TURNOVER PERCENTAGE\",\n",
    "                                        \"ORB%\": \"OFFENSIVE REBOUND PERCENTAGE\",\n",
    "                                        \"FT/FGA\": \"FREE THROWS PER FIELD GOAL ATTEMPT\",\n",
    "                                        \"eFG%.1\": \"OPPONENT EFFECTIVE FIELD GOAL PERCENTAGE\",\n",
    "                                        \"TOV%.1\": \"OPPONENT TURNOVER PERCENTAGE\",\n",
    "                                        \"DRB%\": \"DEFENSIVE REBOUND PERCENTAGE\",\n",
    "                                        \"FT/FGA.1\": \"OPPONENT FREE THROWS PER FIELD GOAL ATTEMPT\",\n",
    "                                         })\n",
    "\n",
    "\n",
    "df_renamed.head()"
   ]
  },
  {
   "cell_type": "code",
   "execution_count": null,
   "metadata": {},
   "outputs": [],
   "source": [
    "# Check for missing values\n",
    "print(df_renamed.isnull().sum())"
   ]
  },
  {
   "cell_type": "code",
   "execution_count": null,
   "metadata": {},
   "outputs": [],
   "source": [
    "# Summary statistics\n",
    "print(df_renamed.describe())"
   ]
  },
  {
   "cell_type": "markdown",
   "metadata": {},
   "source": [
    "## Part 1: Exploring the data. \n",
    "\n",
    "Determining if same amount of information/data is available accross the years."
   ]
  },
  {
   "cell_type": "code",
   "execution_count": null,
   "metadata": {},
   "outputs": [],
   "source": [
    "df_renamed"
   ]
  },
  {
   "cell_type": "code",
   "execution_count": null,
   "metadata": {},
   "outputs": [],
   "source": [
    "#Creating a dataframe to evaluate how many rows of data are in each year\n",
    "df_year = df_renamed[[\"Year\"]]\n",
    "df_year.plot.hist(color=\"blue\",rwidth=0.8) \n"
   ]
  },
  {
   "cell_type": "markdown",
   "metadata": {},
   "source": [
    "Filtering the df only to visualize teams that made it to the Championship over the years"
   ]
  },
  {
   "cell_type": "code",
   "execution_count": null,
   "metadata": {},
   "outputs": [],
   "source": [
    "#Filtering the df by Championship = 1\n",
    "df_won_champ = df_renamed.loc[(df_renamed[\"Championship\"].str.contains(\"1\"))]\n",
    "\n",
    "df_won_champ.head()"
   ]
  },
  {
   "cell_type": "code",
   "execution_count": null,
   "metadata": {},
   "outputs": [],
   "source": [
    "#Creating a df to be used as a table correlation for further analysis\n",
    "\n",
    "#New df filtered by who won the Championship \n",
    "df_renamed.copy()\n",
    "\n",
    "df_won_champ_corr = df_renamed.drop(columns=[\"Team\",\"Playoffs\"])\n",
    "\n",
    "df_won_champ_corr = df_won_champ_corr.loc[(df_renamed[\"Championship\"].str.contains(\"1\"))]\n",
    "\n",
    "#df_won_champ_corr['Championship'].astype(int)\n",
    "#df_won_champ_corr['Playoffs'].astype(int)\n",
    "\n",
    "#Correlation table\n",
    "df_won_champ_corr.head()"
   ]
  },
  {
   "cell_type": "code",
   "execution_count": null,
   "metadata": {},
   "outputs": [],
   "source": [
    "#Correlation table\n",
    "df_won_champ_corr.corr()"
   ]
  },
  {
   "cell_type": "markdown",
   "metadata": {},
   "source": [
    "Heat map based on correlation table to identify potential indication of most important variables before starting the prediction"
   ]
  },
  {
   "cell_type": "code",
   "execution_count": null,
   "metadata": {},
   "outputs": [],
   "source": [
    "#correlation table to heatmap using sns\n",
    "sns.heatmap(df_won_champ_corr.corr())"
   ]
  },
  {
   "cell_type": "code",
   "execution_count": null,
   "metadata": {},
   "outputs": [],
   "source": [
    "#df grouped by Championship\n",
    "by_win = df_won_champ.groupby('Championship')\n",
    "by_win[\"Team\"].value_counts()\n",
    "\n",
    "#Team counts by wins df\n",
    "team_counts = by_win[\"Team\"].value_counts()\n",
    "\n",
    "team_counts_by_win = team_counts.reset_index()\n",
    "team_counts_by_win.columns = [\"Championship\",'Team', 'Count']\n",
    "\n",
    "team_counts_by_win\n"
   ]
  },
  {
   "cell_type": "code",
   "execution_count": null,
   "metadata": {},
   "outputs": [],
   "source": [
    "#Championship column dropped\n",
    "by_team = team_counts_by_win.drop(columns=['Championship'])\n",
    "\n",
    "by_team"
   ]
  },
  {
   "cell_type": "markdown",
   "metadata": {},
   "source": [
    "In order to make a prediction is important to identify which teams have performed better over the years"
   ]
  },
  {
   "cell_type": "code",
   "execution_count": null,
   "metadata": {},
   "outputs": [],
   "source": [
    "#Plotting Team vs age \n",
    "by_team.plot(x='Team', y='Count', kind='bar', color= \"cadetblue\")\n",
    "#setting x and y labels \n",
    "plt.xlabel('Team')\n",
    "plt.ylabel('Championships won')\n",
    "#title\n",
    "plt.title('Championships won by team')\n"
   ]
  },
  {
   "cell_type": "markdown",
   "metadata": {},
   "source": [
    "Is Age an importan factor? \n",
    "\n",
    "The average age in the winer teams is narrowed between 26.6 to 31.7"
   ]
  },
  {
   "cell_type": "code",
   "execution_count": null,
   "metadata": {},
   "outputs": [],
   "source": [
    "#df Winners Teams and age \n",
    "df_team_age = df_won_champ[[\"Team\" , \"Age\"]]\n",
    "\n",
    "df_team_age"
   ]
  },
  {
   "cell_type": "code",
   "execution_count": null,
   "metadata": {},
   "outputs": [],
   "source": [
    "df_team_age.min()\n",
    "df_team_age.max()\n"
   ]
  },
  {
   "cell_type": "code",
   "execution_count": null,
   "metadata": {},
   "outputs": [],
   "source": [
    "#Plotting winners teams vs age \n",
    "df_team_age = df_won_champ[[\"Team\" , \"Age\"]]\n",
    "\n",
    "df_team_age.plot(x='Team', y='Age', kind='bar', color= \"deeppink\")\n",
    "#laxis imits\n",
    "plt.ylim(20, 40) \n",
    "#setting x and y labels  \n",
    "plt.xlabel('Team')\n",
    "plt.ylabel('Age')\n",
    "#title \n",
    "plt.title('Team vs Age')\n",
    "\n"
   ]
  },
  {
   "cell_type": "markdown",
   "metadata": {},
   "source": [
    "Understanding if age correlates directly with wins"
   ]
  },
  {
   "cell_type": "code",
   "execution_count": null,
   "metadata": {},
   "outputs": [],
   "source": [
    "#Team vs age \n",
    "df_age_wins = df_won_champ[[\"Age\" , \"WINS\"]]\n",
    "\n",
    "df_age_wins.plot.scatter(x='Age', y='WINS', color= \"orange\")\n",
    "#axis limits\n",
    "plt.ylim(30, 100) \n",
    "#setting x and y labels  \n",
    "plt.xlabel('Age')\n",
    "plt.ylabel('Wins')\n",
    "#title \n",
    "plt.title('Age vs Wins')"
   ]
  },
  {
   "cell_type": "code",
   "execution_count": null,
   "metadata": {},
   "outputs": [],
   "source": [
    "df_age_wins = df_won_champ[[\"OFFENSIVE REBOUND PERCENTAGE\" , \"MARGIN OF VICTORY\"]]\n",
    "\n",
    "df_age_wins.plot.scatter(x='OFFENSIVE REBOUND PERCENTAGE', y=\"MARGIN OF VICTORY\", color= \"orange\")\n",
    "#axis limits\n",
    "#plt.ylim(30, 100) \n",
    "plt.xlabel('Offensive Rebound %')\n",
    "plt.ylabel('Margin of Victory')\n",
    "#title \n",
    "plt.title('Margin of Victory vs Offensive Rebound %')"
   ]
  },
  {
   "cell_type": "markdown",
   "metadata": {},
   "source": [
    "### Using OneHotEncoder for Teams which is a categorical data. "
   ]
  },
  {
   "cell_type": "code",
   "execution_count": null,
   "metadata": {},
   "outputs": [],
   "source": [
    "from sklearn.preprocessing import OneHotEncoder\n",
    "encoder = OneHotEncoder(sparse_output=False)"
   ]
  },
  {
   "cell_type": "code",
   "execution_count": null,
   "metadata": {},
   "outputs": [],
   "source": [
    "encodeded_teams = encoder.fit_transform(df_renamed[['Team']])"
   ]
  },
  {
   "cell_type": "code",
   "execution_count": null,
   "metadata": {},
   "outputs": [],
   "source": [
    "encodeded_teams_df = pd.DataFrame(encodeded_teams, columns=encoder.get_feature_names_out([\"Team\"]))"
   ]
  },
  {
   "cell_type": "code",
   "execution_count": null,
   "metadata": {},
   "outputs": [],
   "source": [
    "encodeded_teams_df.head()"
   ]
  },
  {
   "cell_type": "code",
   "execution_count": null,
   "metadata": {},
   "outputs": [],
   "source": [
    "df_renamed.drop(df_renamed.columns[2], axis=1, inplace=True)\n",
    "\n",
    "df_concat = pd.concat([df_renamed,encodeded_teams_df], axis=1)\n",
    "\n",
    "df_concat"
   ]
  },
  {
   "cell_type": "markdown",
   "metadata": {},
   "source": [
    "## Part 3 Creating the Model \n",
    "\n",
    "Creating and comparing two models on this data: a Logistic Regression, and a Random Forests Classifier.\n",
    "\n",
    "Split the Data into Training and Testing Sets"
   ]
  },
  {
   "cell_type": "code",
   "execution_count": null,
   "metadata": {},
   "outputs": [],
   "source": [
    "# Create the labels set `y` and features DataFrame `X`\n",
    "y = df_renamed['Championship']\n",
    "X = df_renamed.drop(columns=['Championship'])\n",
    "display(y.head())\n",
    "display(X.head())\n"
   ]
  },
  {
   "cell_type": "code",
   "execution_count": null,
   "metadata": {},
   "outputs": [],
   "source": [
    "# Check the balance of the labels variable (`y`) by using the `value_counts` function.\n",
    "y.value_counts()"
   ]
  },
  {
   "cell_type": "code",
   "execution_count": null,
   "metadata": {},
   "outputs": [],
   "source": [
    "# Split the data into X_train, X_test, y_train, y_test\n",
    "X_train, X_test, y_train, y_test = train_test_split(X, y, random_state=1)\n"
   ]
  },
  {
   "cell_type": "code",
   "execution_count": null,
   "metadata": {},
   "outputs": [],
   "source": [
    "num_rows = y_train.shape[0]\n",
    "num_rows"
   ]
  },
  {
   "cell_type": "markdown",
   "metadata": {},
   "source": [
    "### Scale the Features\n",
    "Use the `StandardScaler` to scale the features data. Only `X_train` and `X_test` DataFrames should be scaled."
   ]
  },
  {
   "cell_type": "code",
   "execution_count": null,
   "metadata": {},
   "outputs": [],
   "source": [
    "from sklearn.preprocessing import StandardScaler\n",
    "\n",
    "# Create the StandardScaler instance\n",
    "scaler = StandardScaler()"
   ]
  },
  {
   "cell_type": "code",
   "execution_count": null,
   "metadata": {},
   "outputs": [],
   "source": [
    "# Fit the Standard Scaler with the training data\n",
    "scaler.fit(X_train)\n",
    "\n",
    "# Fit the Standard Scaler with the test data\n",
    "scaler.fit(X_test)"
   ]
  },
  {
   "cell_type": "code",
   "execution_count": null,
   "metadata": {},
   "outputs": [],
   "source": [
    "# Scale the training data\n",
    "X_train_scaled = scaler.transform(X_train)\n",
    "\n",
    "# Scale the test data\n",
    "X_test_scaled = scaler.transform(X_test)"
   ]
  },
  {
   "cell_type": "markdown",
   "metadata": {},
   "source": [
    "### Creation and Fitting Logistic Regression Model\n",
    "\n",
    "Creating a Logistic Regression model, fitting it to the training data, making predictions with the testing data, and printing the model's accuracy score."
   ]
  },
  {
   "cell_type": "code",
   "execution_count": null,
   "metadata": {},
   "outputs": [],
   "source": [
    "# Make and save testing predictions with the saved logistic regression model using the test data\n",
    "logistic_regression_model = LogisticRegression(random_state=1)\n",
    "logistic_regression_model.fit(X_train_scaled, y_train)\n",
    "# Review the predictions\n",
    "y_pred = logistic_regression_model.predict(X_test_scaled)\n",
    "y_pred"
   ]
  },
  {
   "cell_type": "code",
   "execution_count": null,
   "metadata": {},
   "outputs": [],
   "source": [
    "# Calculate the accuracy score by evaluating `y_test` vs. `testing_predictions`.\n",
    "print(f\"Training Data Score: {logistic_regression_model.score(X_train_scaled, y_train):.3f}\")\n",
    "print(f\"Testing Data Score: {logistic_regression_model.score(X_test_scaled, y_test):.3f}\")\n",
    "\n",
    "# Generate predictions from the model we just fit\n",
    "testing_predictions_lr = logistic_regression_model.predict(X_test_scaled)\n",
    "\n",
    "# Display the accuracy score for the testing dataset\n",
    "print('Logistic Regression Model Accuracy Score: %.3f' % accuracy_score(y_test, testing_predictions_lr) )"
   ]
  },
  {
   "cell_type": "markdown",
   "metadata": {},
   "source": [
    "### Using Random Forest Classifier Model\n",
    "\n",
    "Using Random Forest Classifier model to fit the training data, make predictions with the testing data, and print the model's accuracy score."
   ]
  },
  {
   "cell_type": "code",
   "execution_count": null,
   "metadata": {},
   "outputs": [],
   "source": [
    "# Make and save testing predictions with the saved logistic regression model using the test data\n",
    "random_forest_model = RandomForestClassifier(random_state=1)\n",
    "random_forest_model.fit(X_train_scaled, y_train)\n",
    "\n",
    "# Review the predictions\n",
    "y_pred = random_forest_model.predict(X_train_scaled)\n",
    "y_pred"
   ]
  },
  {
   "cell_type": "code",
   "execution_count": null,
   "metadata": {},
   "outputs": [],
   "source": [
    "# Calculate the accuracy score by evaluating `y_test` vs. `testing_predictions`.\n",
    "print(f\"Testing Data Score: {random_forest_model.score(X_test_scaled, y_test):.3f}\")"
   ]
  },
  {
   "cell_type": "markdown",
   "metadata": {},
   "source": [
    "# Part 4 Data Preparation for Modeling\n",
    "\n",
    "Next, we will prepare the data for modeling. We can choose a target variable, such as \"Championship\" or \"Playoffs,\" and perform the following steps:"
   ]
  },
  {
   "cell_type": "code",
   "execution_count": null,
   "metadata": {},
   "outputs": [],
   "source": [
    "# Identify unique values in the 'Championship' column\n",
    "print(df_concat['Championship'].unique())\n",
    "\n",
    "# Replace 'Null' or other non-numeric values with NaN\n",
    "df_concat['Championship'].replace('Null', np.nan, inplace=True)\n",
    "\n",
    "# Assuming 'Null' means no championship, we replace with 0\n",
    "df_concat['Championship'].fillna(0, inplace=True)\n",
    "\n",
    "# Convert the column to integers\n",
    "df_concat['Championship'] = df_concat['Championship'].astype(int)\n",
    "\n",
    "# Verify the conversion\n",
    "print(df_concat['Championship'].unique())\n",
    "\n",
    "# Check for missing values\n",
    "print(df_concat.isnull().sum())\n",
    "\n",
    "# Summary statistics\n",
    "print(df_concat.describe())\n",
    "\n",
    "# Select only numeric columns\n",
    "numeric_df = df_concat.select_dtypes(include=[np.number])\n",
    "\n",
    "# Feature selection\n",
    "features = [\"WINS\", \"LOSSES\", \"PYTHAGOREAN WINS\", \"PYTHAGOREAN LOSSES\", \n",
    "            \"MARGIN OF VICTORY\", \"STRENGTH OF SCHEDULE\", \"SIMPLE RATING SYSTEM\", \n",
    "            \"OFFENSIVE RATING\", \"DEFENSIVE RATING\", \"PACE FACTOR\", \n",
    "            \"FREE THROW ATTEMPT RATE\", \"3-POINT ATTEMPT RATE\", \"TRUE SHOOTING PERCENTAGE\", \n",
    "            \"EFFECTIVE FIELD GOAL PERCENTAGE\", \"TURNOVER PERCENTAGE\", \n",
    "            \"OFFENSIVE REBOUND PERCENTAGE\", \"FREE THROWS PER FIELD GOAL ATTEMPT\", \n",
    "            \"OPPONENT EFFECTIVE FIELD GOAL PERCENTAGE\", \"OPPONENT TURNOVER PERCENTAGE\", \n",
    "            \"DEFENSIVE REBOUND PERCENTAGE\", \"OPPONENT FREE THROWS PER FIELD GOAL ATTEMPT\"]\n",
    "\n",
    "X = numeric_df[features]\n",
    "y = df_concat['Championship']  # Target variable\n",
    "\n",
    "# Split the data\n",
    "X_train, X_test, y_train, y_test = train_test_split(X, y, test_size=0.2, random_state=42)\n",
    "\n",
    "# Feature scaling\n",
    "scaler = StandardScaler()\n",
    "X_train_scaled = scaler.fit_transform(X_train)\n",
    "X_test_scaled = scaler.transform(X_test)\n",
    "\n",
    "# Train a logistic regression model\n",
    "log_reg = LogisticRegression(max_iter=1000)\n",
    "log_reg.fit(X_train_scaled, y_train)\n",
    "\n",
    "# Predict on test set\n",
    "y_pred_log_reg = log_reg.predict(X_test_scaled)\n",
    "\n",
    "# Evaluate the model\n",
    "print(\"Logistic Regression Accuracy:\", accuracy_score(y_test, y_pred_log_reg))\n",
    "print(\"Confusion Matrix:\\n\", confusion_matrix(y_test, y_pred_log_reg))\n",
    "print(\"Classification Report:\\n\", classification_report(y_test, y_pred_log_reg))\n",
    "\n",
    "# Visualize confusion matrix\n",
    "conf_matrix = confusion_matrix(y_test, y_pred_log_reg)\n",
    "sns.heatmap(conf_matrix, annot=True, fmt='d', cmap='Blues')\n",
    "plt.xlabel('Predicted')\n",
    "plt.ylabel('Actual')\n",
    "plt.title('Confusion Matrix')\n",
    "plt.show()"
   ]
  },
  {
   "cell_type": "markdown",
   "metadata": {},
   "source": [
    "The logistic regression model achieves an accuracy of approximately 98.40% on the test set, with a confusion matrix showing 183 true negatives (no championship) and 2 true positives (championship). However, the classification report indicates some challenges in classifying the positive class (championship), with a lower recall and F1-score due to only 2 true positives out of 5 total positive instances in the test set.\n",
    "\n",
    "Given this information, it's important to note that the class imbalance in the target variable (championship) might affect the model's performance, especially in terms of correctly identifying instances of championship wins."
   ]
  },
  {
   "cell_type": "code",
   "execution_count": null,
   "metadata": {},
   "outputs": [],
   "source": [
    "# Identify unique values in the 'Playoffs' column\n",
    "print(df_concat['Playoffs'].unique())\n",
    "\n",
    "# Replace 'Null' or other non-numeric values with NaN\n",
    "df_concat['Playoffs'].replace('Null', np.nan, inplace=True)\n",
    "\n",
    "# Assuming 'Null' means no Playoffs, we replace with 0\n",
    "df_concat['Playoffs'].fillna(0, inplace=True)\n",
    "\n",
    "# Convert the column to integers\n",
    "df_concat['Playoffs'] = df_concat['Playoffs'].astype(int)\n",
    "\n",
    "# Verify the conversion\n",
    "print(df_concat['Playoffs'].unique())\n",
    "\n",
    "# Check for missing values\n",
    "print(df_concat.isnull().sum())\n",
    "\n",
    "# Summary statistics\n",
    "print(df_concat.describe())\n",
    "\n",
    "# Select only numeric columns\n",
    "numeric_df_1 = df_concat.select_dtypes(include=[np.number])\n",
    "\n",
    "# Feature selection\n",
    "features_1 = [\"WINS\", \"LOSSES\", \"PYTHAGOREAN WINS\", \"PYTHAGOREAN LOSSES\", \n",
    "            \"MARGIN OF VICTORY\", \"STRENGTH OF SCHEDULE\", \"SIMPLE RATING SYSTEM\", \n",
    "            \"OFFENSIVE RATING\", \"DEFENSIVE RATING\", \"PACE FACTOR\", \n",
    "            \"FREE THROW ATTEMPT RATE\", \"3-POINT ATTEMPT RATE\", \"TRUE SHOOTING PERCENTAGE\", \n",
    "            \"EFFECTIVE FIELD GOAL PERCENTAGE\", \"TURNOVER PERCENTAGE\", \n",
    "            \"OFFENSIVE REBOUND PERCENTAGE\", \"FREE THROWS PER FIELD GOAL ATTEMPT\", \n",
    "            \"OPPONENT EFFECTIVE FIELD GOAL PERCENTAGE\", \"OPPONENT TURNOVER PERCENTAGE\", \n",
    "            \"DEFENSIVE REBOUND PERCENTAGE\", \"OPPONENT FREE THROWS PER FIELD GOAL ATTEMPT\"]\n",
    "\n",
    "X = numeric_df_1[features]\n",
    "y = numeric_df_1['Playoffs']  # Target variable\n",
    "\n",
    "# Split the data\n",
    "X_train, X_test, y_train, y_test = train_test_split(X, y, test_size=0.2, random_state=42)\n",
    "\n",
    "# Feature scaling\n",
    "scaler = StandardScaler()\n",
    "X_train_scaled = scaler.fit_transform(X_train)\n",
    "X_test_scaled = scaler.transform(X_test)\n",
    "\n",
    "# Train a logistic regression model\n",
    "log_reg = LogisticRegression(max_iter=1000)\n",
    "log_reg.fit(X_train_scaled, y_train)\n",
    "\n",
    "# Predict on test set\n",
    "y_pred_log_reg = log_reg.predict(X_test_scaled)\n",
    "\n",
    "# Evaluate the model\n",
    "print(\"Logistic Regression Accuracy:\", accuracy_score(y_test, y_pred_log_reg))\n",
    "print(\"Confusion Matrix:\\n\", confusion_matrix(y_test, y_pred_log_reg))\n",
    "print(\"Classification Report:\\n\", classification_report(y_test, y_pred_log_reg))\n",
    "\n",
    "# Visualize confusion matrix\n",
    "conf_matrix = confusion_matrix(y_test, y_pred_log_reg)\n",
    "sns.heatmap(conf_matrix, annot=True, fmt='d', cmap='Blues')\n",
    "plt.xlabel('Predicted')\n",
    "plt.ylabel('Actual')\n",
    "plt.title('Confusion Matrix')\n",
    "plt.show()"
   ]
  },
  {
   "cell_type": "markdown",
   "metadata": {},
   "source": [
    "The logistic regression model achieves an accuracy of approximately 96.28% on the test set. The confusion matrix shows that out of 188 samples, 86 were correctly predicted as not making the playoffs (true negatives), 95 were correctly predicted as making the playoffs (true positives), 6 were incorrectly predicted as making the playoffs when they didn't (false positives), and 1 was incorrectly predicted as not making the playoffs when it did (false negative). The classification report provides precision, recall, F1-score, and support for both classes (0 and 1).\n",
    "\n",
    "Overall, the logistic regression model appears to perform well on the given dataset for predicting playoff appearances based on the selected features."
   ]
  },
  {
   "cell_type": "code",
   "execution_count": null,
   "metadata": {},
   "outputs": [],
   "source": [
    "from imblearn.over_sampling import SMOTE\n",
    "\n",
    "# Replace 'Null' or other non-numeric values with NaN\n",
    "df_concat['Playoffs'].replace('Null', np.nan, inplace=True)\n",
    "\n",
    "# Fill NaN values with 0\n",
    "df_concat['Playoffs'].fillna(0, inplace=True)\n",
    "\n",
    "# Convert the column to integers\n",
    "df_concat['Playoffs'] = df_concat['Playoffs'].astype(int)\n",
    "\n",
    "# Select only numeric columns\n",
    "numeric_df_2 = df_concat.select_dtypes(include=[np.number])\n",
    "\n",
    "# Feature selection\n",
    "features_2 = [\"WINS\", \"LOSSES\", \"PYTHAGOREAN WINS\", \"PYTHAGOREAN LOSSES\", \n",
    "            \"MARGIN OF VICTORY\", \"STRENGTH OF SCHEDULE\", \"SIMPLE RATING SYSTEM\", \n",
    "            \"OFFENSIVE RATING\", \"DEFENSIVE RATING\", \"PACE FACTOR\", \n",
    "            \"FREE THROW ATTEMPT RATE\", \"3-POINT ATTEMPT RATE\", \"TRUE SHOOTING PERCENTAGE\", \n",
    "            \"EFFECTIVE FIELD GOAL PERCENTAGE\", \"TURNOVER PERCENTAGE\", \"OFFENSIVE REBOUND PERCENTAGE\", \n",
    "            \"FREE THROWS PER FIELD GOAL ATTEMPT\", \"OPPONENT EFFECTIVE FIELD GOAL PERCENTAGE\", \n",
    "            \"OPPONENT TURNOVER PERCENTAGE\", \"DEFENSIVE REBOUND PERCENTAGE\", \n",
    "            \"OPPONENT FREE THROWS PER FIELD GOAL ATTEMPT\"]\n",
    "\n",
    "X = numeric_df_2[features]\n",
    "y = numeric_df_2['Playoffs']\n",
    "\n",
    "# Standardize the features\n",
    "scaler = StandardScaler()\n",
    "X_scaled = scaler.fit_transform(X)\n",
    "\n",
    "# Split the data\n",
    "X_train, X_test, y_train, y_test = train_test_split(X_scaled, y, test_size=0.2, random_state=42)\n",
    "\n",
    "# Apply SMOTE\n",
    "smote = SMOTE(random_state=42)\n",
    "X_train_smote, y_train_smote = smote.fit_resample(X_train, y_train)\n",
    "\n",
    "# Train the RandomForestClassifier\n",
    "rf_model = RandomForestClassifier(random_state=42)\n",
    "rf_model.fit(X_train_smote, y_train_smote)\n",
    "\n",
    "# Make predictions\n",
    "y_pred = rf_model.predict(X_test)\n",
    "\n",
    "# Evaluate the model\n",
    "accuracy = accuracy_score(y_test, y_pred)\n",
    "cm = confusion_matrix(y_test, y_pred)\n",
    "report = classification_report(y_test, y_pred)\n",
    "\n",
    "print(\"Random Forest Classifier Accuracy:\", accuracy)\n",
    "print(\"Confusion Matrix:\\n\", cm)\n",
    "print(\"Classification Report:\\n\", report)\n",
    "\n",
    "# Plot the confusion matrix\n",
    "plt.figure(figsize=(10, 7))\n",
    "sns.heatmap(cm, annot=True, fmt=\"d\", cmap=\"Blues\")\n",
    "plt.xlabel('Predicted')\n",
    "plt.ylabel('Actual')\n",
    "plt.title('Confusion Matrix')\n",
    "plt.show()"
   ]
  },
  {
   "cell_type": "markdown",
   "metadata": {},
   "source": [
    "The Random Forest Classifier achieves an accuracy of approximately 94.15% on the test set. The confusion matrix shows that out of 188 samples, 83 were correctly predicted as not making the playoffs (true negatives), 94 were correctly predicted as making the playoffs (true positives), 9 were incorrectly predicted as making the playoffs when they didn't (false positives), and 2 were incorrectly predicted as not making the playoffs when they did (false negatives). The classification report provides precision, recall, F1-score, and support for both classes (0 and 1).\n",
    "\n",
    "The Random Forest Classifier performs slightly worse than the logistic regression model in terms of accuracy but still achieves strong results in predicting playoff appearances based on the selected features."
   ]
  },
  {
   "cell_type": "markdown",
   "metadata": {},
   "source": [
    "The Random Forest Classifier model achieves an accuracy of approximately 93.62% on the test set. Both models perform well, with the Logistic Regression model slightly outperforming the Random Forest Classifier in terms of accuracy and precision for predicting both classes. However, the Random Forest Classifier exhibits slightly higher recall for class 1 (making playoffs), indicating its ability to better identify instances of this class."
   ]
  },
  {
   "cell_type": "code",
   "execution_count": null,
   "metadata": {},
   "outputs": [],
   "source": [
    "# Identify unique values in the 'NET RATING' column\n",
    "print(df_concat['NET RATING'].unique())\n",
    "\n",
    "# Replace 'Null' or other non-numeric values with NaN\n",
    "df_concat['NET RATING'].replace('Null', np.nan, inplace=True)\n",
    "\n",
    "# Assuming 'Null' means no NET RATING, we replace with 0\n",
    "df_concat['NET RATING'].fillna(0, inplace=True)\n",
    "\n",
    "# Convert the column to integers\n",
    "df_concat['NET RATING'] = df_concat['NET RATING'].astype(int)\n",
    "\n",
    "# Verify the conversion\n",
    "print(df_concat['NET RATING'].unique())\n",
    "\n",
    "# Check for missing values\n",
    "print(df_concat.isnull().sum())\n",
    "\n",
    "# Summary statistics\n",
    "print(df_concat.describe())\n",
    "\n",
    "# Select only numeric columns\n",
    "numeric_df_3 = df_concat.select_dtypes(include=[np.number])\n",
    "\n",
    "# Feature selection\n",
    "features_3 = [\"WINS\", \"LOSSES\", \"PYTHAGOREAN WINS\", \"PYTHAGOREAN LOSSES\", \n",
    "            \"MARGIN OF VICTORY\", \"STRENGTH OF SCHEDULE\", \"SIMPLE RATING SYSTEM\", \n",
    "            \"OFFENSIVE RATING\", \"DEFENSIVE RATING\", \"PACE FACTOR\", \n",
    "            \"FREE THROW ATTEMPT RATE\", \"3-POINT ATTEMPT RATE\", \"TRUE SHOOTING PERCENTAGE\", \n",
    "            \"EFFECTIVE FIELD GOAL PERCENTAGE\", \"TURNOVER PERCENTAGE\", \n",
    "            \"OFFENSIVE REBOUND PERCENTAGE\", \"FREE THROWS PER FIELD GOAL ATTEMPT\", \n",
    "            \"OPPONENT EFFECTIVE FIELD GOAL PERCENTAGE\", \"OPPONENT TURNOVER PERCENTAGE\", \n",
    "            \"DEFENSIVE REBOUND PERCENTAGE\", \"OPPONENT FREE THROWS PER FIELD GOAL ATTEMPT\"]\n",
    "\n",
    "X = numeric_df_3[features]\n",
    "y = numeric_df_3['NET RATING']  # Target variable\n",
    "\n",
    "# Split the data\n",
    "X_train, X_test, y_train, y_test = train_test_split(X, y, test_size=0.2, random_state=42)\n",
    "\n",
    "# Feature scaling\n",
    "scaler = StandardScaler()\n",
    "X_train_scaled = scaler.fit_transform(X_train)\n",
    "X_test_scaled = scaler.transform(X_test)\n",
    "\n",
    "# Train a logistic regression model\n",
    "log_reg = LogisticRegression(max_iter=1000)\n",
    "log_reg.fit(X_train_scaled, y_train)\n",
    "\n",
    "# Predict on test set\n",
    "y_pred_log_reg = log_reg.predict(X_test_scaled)\n",
    "\n",
    "# Evaluate the model\n",
    "print(\"Logistic Regression Accuracy:\", accuracy_score(y_test, y_pred_log_reg))\n",
    "print(\"Confusion Matrix:\\n\", confusion_matrix(y_test, y_pred_log_reg))\n",
    "print(\"Classification Report:\\n\", classification_report(y_test, y_pred_log_reg))\n",
    "\n",
    "# Visualize confusion matrix\n",
    "conf_matrix = confusion_matrix(y_test, y_pred_log_reg)\n",
    "sns.heatmap(conf_matrix, annot=True, fmt='d', cmap='Blues')\n",
    "plt.xlabel('Predicted')\n",
    "plt.ylabel('Actual')\n",
    "plt.title('Confusion Matrix')\n",
    "plt.show()"
   ]
  }
 ],
 "metadata": {
  "kernelspec": {
   "display_name": "dev",
   "language": "python",
   "name": "python3"
  },
  "language_info": {
   "codemirror_mode": {
    "name": "ipython",
    "version": 3
   },
   "file_extension": ".py",
   "mimetype": "text/x-python",
   "name": "python",
   "nbconvert_exporter": "python",
   "pygments_lexer": "ipython3",
   "version": "3.11.7"
  }
 },
 "nbformat": 4,
 "nbformat_minor": 2
}
